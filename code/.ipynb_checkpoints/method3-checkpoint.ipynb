{
 "cells": [
  {
   "cell_type": "code",
   "execution_count": 70,
   "id": "d7f5b46e",
   "metadata": {},
   "outputs": [],
   "source": [
    "\n",
    "import pandas as pd\n",
    "from sklearn.metrics import cohen_kappa_score\n",
    "import itertools\n",
    "import numpy as np\n",
    "from sklearn.feature_extraction.text import CountVectorizer\n"
   ]
  },
  {
   "cell_type": "code",
   "execution_count": 74,
   "id": "3f4928a1",
   "metadata": {},
   "outputs": [],
   "source": [
    "df_train = pd.read_excel('dataset/train.xlsx')\n",
    "df_test = pd.read_excel('dataset/test.xlsx')\n",
    "df_valid = pd.read_excel('dataset/valid.xlsx')\n",
    "texts_train = df_train['text']\n"
   ]
  },
  {
   "cell_type": "code",
   "execution_count": 76,
   "id": "a7705d38",
   "metadata": {},
   "outputs": [],
   "source": [
    "vectorizer = CountVectorizer()\n",
    "X = vectorizer.fit_transform(texts_train)"
   ]
  },
  {
   "cell_type": "code",
   "execution_count": 82,
   "id": "62617393",
   "metadata": {},
   "outputs": [],
   "source": [
    "# scores_txt = {\n",
    "#     'joy_x': (0.0, 2.00, 0.00),\n",
    "#     'trust_x': (0.00, 2.00, 0.00),\n",
    "#     'anticipation_x ': (0.00, 2.00, 0.00),\n",
    "#     'surprise_x': (0.00, 2.00, 0.00),\n",
    "#     'fear_x': (0.00, 2.00, 0.00),\n",
    "#     'sadness_x': (0.00, 2.00, 0.00),\n",
    "#     'disgust_x': (0.00, 2.00, 1.00),\n",
    "#     'anger_x': (0.00, 2.00, 0.00),\n",
    "#     'arousal_x': (0.00, 2.00, 0.00),\n",
    "#     'valence_x': (0.00, 2.00, 0.00),\n",
    "#      'joy_y': (0.00, 2.00, 0.00),\n",
    "#     'trust_y': (0.00, 2.00, 0.00),\n",
    "#     'anticipation_y ': (0.00, 2.00, 0.00),\n",
    "#     'surprise_y': (0.00, 2.00, 0.00),\n",
    "#     'fear_y': (0.00, 2.00, 0.00),\n",
    "#     'sadness_y': (0.00, 2.00, 0.00),\n",
    "#     'disgust_y': (0.00, 2.00, 1.00),\n",
    "#     'anger_y': (0.00, 2.00, 0.00),\n",
    "#     'arousal_y': (0.00, 2.00, 3.00),\n",
    "#     'valence_y': (0.00, 02.00, 0.00)}\n",
    "score_txt = [0,1,2,3]"
   ]
  },
  {
   "cell_type": "code",
   "execution_count": 85,
   "id": "615f9645",
   "metadata": {},
   "outputs": [
    {
     "ename": "KeyError",
     "evalue": "0",
     "output_type": "error",
     "traceback": [
      "\u001b[1;31m---------------------------------------------------------------------------\u001b[0m",
      "\u001b[1;31mKeyError\u001b[0m                                  Traceback (most recent call last)",
      "Cell \u001b[1;32mIn [85], line 5\u001b[0m\n\u001b[0;32m      3\u001b[0m \u001b[38;5;28;01mfor\u001b[39;00m index, row \u001b[38;5;129;01min\u001b[39;00m df_train\u001b[38;5;241m.\u001b[39miterrows():\n\u001b[0;32m      4\u001b[0m   text \u001b[38;5;241m=\u001b[39m row[\u001b[38;5;124m'\u001b[39m\u001b[38;5;124mtext\u001b[39m\u001b[38;5;124m'\u001b[39m]\n\u001b[1;32m----> 5\u001b[0m   annotations \u001b[38;5;241m=\u001b[39m [scores_txt[x] \u001b[38;5;28;01mfor\u001b[39;00m x \u001b[38;5;129;01min\u001b[39;00m row[[\u001b[38;5;124m'\u001b[39m\u001b[38;5;124mjoy_x\u001b[39m\u001b[38;5;124m'\u001b[39m, \u001b[38;5;124m'\u001b[39m\u001b[38;5;124mtrust_x\u001b[39m\u001b[38;5;124m'\u001b[39m, \u001b[38;5;124m'\u001b[39m\u001b[38;5;124manticipation_x\u001b[39m\u001b[38;5;124m'\u001b[39m, \u001b[38;5;124m'\u001b[39m\u001b[38;5;124msurprise_x\u001b[39m\u001b[38;5;124m'\u001b[39m]]\u001b[38;5;241m.\u001b[39mvalues \u001b[38;5;28;01mif\u001b[39;00m \u001b[38;5;28mstr\u001b[39m(x) \u001b[38;5;129;01mnot\u001b[39;00m \u001b[38;5;129;01min\u001b[39;00m {\u001b[38;5;124m'\u001b[39m\u001b[38;5;124mnan\u001b[39m\u001b[38;5;124m'\u001b[39m}]\n",
      "Cell \u001b[1;32mIn [85], line 5\u001b[0m, in \u001b[0;36m<listcomp>\u001b[1;34m(.0)\u001b[0m\n\u001b[0;32m      3\u001b[0m \u001b[38;5;28;01mfor\u001b[39;00m index, row \u001b[38;5;129;01min\u001b[39;00m df_train\u001b[38;5;241m.\u001b[39miterrows():\n\u001b[0;32m      4\u001b[0m   text \u001b[38;5;241m=\u001b[39m row[\u001b[38;5;124m'\u001b[39m\u001b[38;5;124mtext\u001b[39m\u001b[38;5;124m'\u001b[39m]\n\u001b[1;32m----> 5\u001b[0m   annotations \u001b[38;5;241m=\u001b[39m [\u001b[43mscores_txt\u001b[49m\u001b[43m[\u001b[49m\u001b[43mx\u001b[49m\u001b[43m]\u001b[49m \u001b[38;5;28;01mfor\u001b[39;00m x \u001b[38;5;129;01min\u001b[39;00m row[[\u001b[38;5;124m'\u001b[39m\u001b[38;5;124mjoy_x\u001b[39m\u001b[38;5;124m'\u001b[39m, \u001b[38;5;124m'\u001b[39m\u001b[38;5;124mtrust_x\u001b[39m\u001b[38;5;124m'\u001b[39m, \u001b[38;5;124m'\u001b[39m\u001b[38;5;124manticipation_x\u001b[39m\u001b[38;5;124m'\u001b[39m, \u001b[38;5;124m'\u001b[39m\u001b[38;5;124msurprise_x\u001b[39m\u001b[38;5;124m'\u001b[39m]]\u001b[38;5;241m.\u001b[39mvalues \u001b[38;5;28;01mif\u001b[39;00m \u001b[38;5;28mstr\u001b[39m(x) \u001b[38;5;129;01mnot\u001b[39;00m \u001b[38;5;129;01min\u001b[39;00m {\u001b[38;5;124m'\u001b[39m\u001b[38;5;124mnan\u001b[39m\u001b[38;5;124m'\u001b[39m}]\n",
      "\u001b[1;31mKeyError\u001b[0m: 0"
     ]
    }
   ],
   "source": [
    "scores = []\n",
    "texts = []\n",
    "for index, row in df_train.iterrows():\n",
    "  text = row['text']\n",
    "  annotations = [scores_txt[x] for x in row[['joy_x', 'trust_x', 'anticipation_x', 'surprise_x']].values if str(x) not in {'nan'}]\n",
    "#   if annotations:\n",
    "#     score = list(np.mean(annotations, axis=0))\n",
    "#     scores.append(score)\n",
    "#     texts.append(vectorizer.fit_transform(text.replace('\\n', '')))"
   ]
  },
  {
   "cell_type": "code",
   "execution_count": 58,
   "id": "c2e646e5",
   "metadata": {},
   "outputs": [],
   "source": [
    "vectorizer = CountVectorizer()\n",
    "y_train = df_train['text']\n",
    "X = vectorizer.fit_transform(y_train)\n",
    "x_train = df_train.drop(columns=['text'])\n",
    "y_test = df_test['text']\n",
    "Y = vectorizer.fit_transform(y_test)\n",
    "x_test = df_test.drop(columns=['text'])\n",
    "W = [{\n",
    "    'joy_x': (2.0, 0.00, 0.00),\n",
    "    'trust_x': (1.00, 0.00, 0.00),\n",
    "    'anticipation_x ': (3.00, 0.00, 0.00),\n",
    "    'surprise_x': (0.00, 0.00, 0.00),\n",
    "    'fear_x': (0.00, 0.00, 0.00),\n",
    "    'sadness_x': (0.00, 1.00, 0.00),\n",
    "    'disgust_x': (0.00, 0.00, 1.00),\n",
    "    'anger_x': (0.00, 0.00, 2.00),\n",
    "    'arousal_x': (0.00, 0.00, 3.00),\n",
    "    'valence_x': (0.00, 0.00, 0.00),\n",
    "     'joy_y': (2.0, 0.00, 0.00),\n",
    "    'trust_y': (1.00, 0.00, 0.00),\n",
    "    'anticipation_y ': (3.00, 0.00, 0.00),\n",
    "    'surprise_y': (0.00, 0.00, 0.00),\n",
    "    'fear_y': (0.00, 0.00, 0.00),\n",
    "    'sadness_y': (0.00, 1.00, 0.00),\n",
    "    'disgust_y': (0.00, 0.00, 1.00),\n",
    "    'anger_y': (0.00, 0.00, 2.00),\n",
    "    'arousal_y': (0.00, 0.00, 3.00),\n",
    "    'valence_y': (0.00, 0.00, 0.00)}]\n"
   ]
  },
  {
   "cell_type": "code",
   "execution_count": null,
   "id": "64d1870f",
   "metadata": {},
   "outputs": [],
   "source": [
    "# Train an SVM model\n",
    "# model = SVC()\n",
    "# model.fit(X, W)"
   ]
  },
  {
   "cell_type": "code",
   "execution_count": null,
   "id": "8928f84f",
   "metadata": {},
   "outputs": [],
   "source": [
    "# Or train a random forest model\n",
    "model = RandomForestClassifier()\n",
    "model.fit(X, W)"
   ]
  },
  {
   "cell_type": "code",
   "execution_count": null,
   "id": "a8ee2dc2",
   "metadata": {},
   "outputs": [],
   "source": [
    "# Make predictions on the test set\n",
    "predictions = model.predict(Y)"
   ]
  }
 ],
 "metadata": {
  "kernelspec": {
   "display_name": "Python 3 (ipykernel)",
   "language": "python",
   "name": "python3"
  },
  "language_info": {
   "codemirror_mode": {
    "name": "ipython",
    "version": 3
   },
   "file_extension": ".py",
   "mimetype": "text/x-python",
   "name": "python",
   "nbconvert_exporter": "python",
   "pygments_lexer": "ipython3",
   "version": "3.9.1"
  }
 },
 "nbformat": 4,
 "nbformat_minor": 5
}
